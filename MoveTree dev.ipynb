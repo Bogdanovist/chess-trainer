{
 "cells": [
  {
   "cell_type": "code",
   "execution_count": 3,
   "id": "e60e173f",
   "metadata": {},
   "outputs": [],
   "source": [
    "import chess\n",
    "import lichess.api as lc \n",
    "from lichess.format import PGN, SINGLE_PGN, PYCHESS\n",
    "from parsing import parse_game, make_state_key, parse_games"
   ]
  },
  {
   "cell_type": "code",
   "execution_count": 2,
   "id": "707bba27",
   "metadata": {},
   "outputs": [],
   "source": [
    "games = lc.user_games('bogdanovist', max=200)\n",
    "games = [game for game in games]"
   ]
  },
  {
   "cell_type": "code",
   "execution_count": 4,
   "id": "9d287596",
   "metadata": {},
   "outputs": [],
   "source": [
    "move_tree = parse_games(games, 'white')"
   ]
  },
  {
   "cell_type": "code",
   "execution_count": 16,
   "id": "4b528fed",
   "metadata": {},
   "outputs": [
    {
     "name": "stdout",
     "output_type": "stream",
     "text": [
      "You played this correct 99 times\n",
      "You played this correct 65 times\n",
      "You played this correct 23 times, but Nf3 1 times\n",
      "You played this correct 10 times, but c3 9 times\n",
      "You play e3 here, instead of c4\n",
      "You played this correct 12 times\n"
     ]
    },
    {
     "data": {
      "text/plain": [
       "[]"
      ]
     },
     "metadata": {},
     "output_type": "display_data"
    },
    {
     "data": {
      "text/plain": [
       "[('e3', 10)]"
      ]
     },
     "metadata": {},
     "output_type": "display_data"
    },
    {
     "data": {
      "text/plain": [
       "'rnbqkbnr/ppp2ppp/4p3/3p4/3P1B2/8/PPP1PPPP/RN1QKBNR w KQkq -'"
      ]
     },
     "metadata": {},
     "output_type": "display_data"
    },
    {
     "ename": "Exception",
     "evalue": "missing",
     "output_type": "error",
     "traceback": [
      "\u001b[0;31m---------------------------------------------------------------------------\u001b[0m",
      "\u001b[0;31mException\u001b[0m                                 Traceback (most recent call last)",
      "Cell \u001b[0;32mIn[16], line 45\u001b[0m\n\u001b[1;32m     43\u001b[0m display(sorted_moves)\n\u001b[1;32m     44\u001b[0m display(state)\n\u001b[0;32m---> 45\u001b[0m \u001b[38;5;28;01mraise\u001b[39;00m \u001b[38;5;167;01mException\u001b[39;00m(\u001b[38;5;124m\"\u001b[39m\u001b[38;5;124mmissing\u001b[39m\u001b[38;5;124m\"\u001b[39m)\n",
      "\u001b[0;31mException\u001b[0m: missing"
     ]
    }
   ],
   "source": [
    "lines = {'rnbqkbnr/pppppppp/8/8/8/8/PPPPPPPP/RNBQKBNR w KQkq -':'d4',\n",
    "        'rnbqkbnr/ppp1pppp/8/3p4/3P4/8/PPP1PPPP/RNBQKBNR w KQkq -':'Bf4',\n",
    "        'r1bqkbnr/ppp1pppp/2n5/3p4/3P1B2/8/PPP1PPPP/RN1QKBNR w KQkq -':'e3',\n",
    "        'r1bqkb1r/ppp1pppp/2n2n2/3p4/3P1B2/4P3/PPP2PPP/RN1QKBNR w KQkq -':'c4',\n",
    "        'rnbqkb1r/ppp1pppp/5n2/3p4/3P1B2/8/PPP1PPPP/RN1QKBNR w KQkq -':'e3',\n",
    "        'rn1qkbnr/ppp1pppp/8/3p1b2/3P1B2/8/PPP1PPPP/RN1QKBNR w KQkq -':'c4',\n",
    "        'rnbqkbnr/pppp1ppp/8/4p3/4P3/8/PPPP1PPP/RNBQKBNR w KQkq -':None,\n",
    "        'r1bqkbnr/pppp1ppp/2n5/4p3/4P3/5N2/PPPP1PPP/RNBQKB1R w KQkq -':None,\n",
    "        'r1bqkb1r/pppp1ppp/2n2n2/4p3/2B1P3/5N2/PPPP1PPP/RNBQK2R w KQkq -':None,\n",
    "        'r1bqk2r/pppp1ppp/2n2n2/2b1p1N1/2B1P3/8/PPPP1PPP/RNBQK2R w KQkq -':None,\n",
    "        'r1bqk2r/pppp1ppp/2n2n2/2b1p3/2B1P3/3P1N2/PPP2PPP/RNBQK2R w KQkq -':None,\n",
    "        'r1bqkb1r/pppp1ppp/2n2n2/1B2p3/4P3/5N2/PPPP1PPP/RNBQK2R w KQkq -':None,\n",
    "        'r1bqk2r/pppp1Npp/2n2n2/4p3/2B1P3/8/PPPP1bPP/RNBQK2R w KQkq -':None}  \n",
    "\n",
    "### Walk the tree\n",
    "board = chess.Board()\n",
    "state = make_state_key(board.fen())\n",
    "\n",
    "# Set opening color\n",
    "line_color = chess.WHITE\n",
    "\n",
    "sorted_tree = sorted(move_tree.items(), key=lambda x: x[1]['cnt'], reverse=True)\n",
    "\n",
    "for node in sorted_tree:\n",
    "    state = node[0]\n",
    "    board = chess.Board(state)\n",
    "    if board.turn == line_color:\n",
    "        data = node[1]\n",
    "        sorted_moves = sorted(data['children'].items(), key=lambda x: x[1], reverse=True)\n",
    "        \n",
    "        if state in lines:\n",
    "            if not lines[state]:\n",
    "                continue\n",
    "            if lines[state] == sorted_moves[0][0]:\n",
    "                if len(sorted_moves) == 1:\n",
    "                    print(f'You played this correct {sorted_moves[0][1]} times')\n",
    "                else:\n",
    "                    print(f'You played this correct {sorted_moves[0][1]} times, but {sorted_moves[1][0]} {sorted_moves[1][1]} times')\n",
    "            else:\n",
    "                print(f\"You play {sorted_moves[0][0]} here, instead of {lines[state]}\")\n",
    "        else:\n",
    "            display(board.move_stack)\n",
    "            display(sorted_moves)\n",
    "            display(state)\n",
    "            raise Exception(\"missing\")"
   ]
  },
  {
   "cell_type": "code",
   "execution_count": null,
   "id": "6606000f",
   "metadata": {},
   "outputs": [],
   "source": [
    "# start the walk\n",
    "while True:\n",
    "    #display(state, move_tree[state]['cnt'])\n",
    "    sorted_moves = sorted(move_tree[state]['children'].items(), key=lambda x: x[1], reverse=True)\n",
    "    #display(sorted_moves)\n",
    "    if line_color == board.turn:\n",
    "        if state in lines:\n",
    "            if lines[state] == sorted_moves[0][0]:\n",
    "                print('You play this correct')\n",
    "            else:\n",
    "                print(f\"You play {sorted_moves[0][0]} here, instead of {lines[state]}\")\n",
    "        else:\n",
    "            display(board.move_stack)\n",
    "            display(sorted_moves)\n",
    "            display(state)\n",
    "            raise Exception(\"missing\")\n",
    "    \n",
    "    # make the most populous move\n",
    "    board.push_san(sorted_moves[0][0])\n",
    "    state = make_state_key(board.fen())"
   ]
  },
  {
   "cell_type": "code",
   "execution_count": null,
   "id": "245d53db",
   "metadata": {},
   "outputs": [],
   "source": [
    "board = chess.Board()\n",
    "board.push_san('d4')"
   ]
  },
  {
   "cell_type": "code",
   "execution_count": 14,
   "id": "ff05c6e1",
   "metadata": {},
   "outputs": [
    {
     "data": {
      "text/plain": [
       "[('e3', 10)]"
      ]
     },
     "execution_count": 14,
     "metadata": {},
     "output_type": "execute_result"
    }
   ],
   "source": [
    "sorted_moves"
   ]
  },
  {
   "cell_type": "code",
   "execution_count": null,
   "id": "3888a50c",
   "metadata": {},
   "outputs": [],
   "source": [
    "chess.WHITE"
   ]
  },
  {
   "cell_type": "code",
   "execution_count": null,
   "id": "6a5f13c1",
   "metadata": {},
   "outputs": [],
   "source": [
    "sorted(move_tree[state]['children'].items(), key=lambda x: x[1], reverse=True)"
   ]
  },
  {
   "cell_type": "code",
   "execution_count": null,
   "id": "8d41408b",
   "metadata": {},
   "outputs": [],
   "source": [
    "move_tree[state]['children'].values()"
   ]
  },
  {
   "cell_type": "code",
   "execution_count": null,
   "id": "941d09cb",
   "metadata": {},
   "outputs": [],
   "source": [
    "sorted(move_tree.items(), key=lambda x: x[1]['cnt'], reverse=True)[0]"
   ]
  },
  {
   "cell_type": "code",
   "execution_count": null,
   "id": "0e8b8ff7",
   "metadata": {},
   "outputs": [],
   "source": [
    "move_tree.items()"
   ]
  },
  {
   "cell_type": "code",
   "execution_count": null,
   "id": "b68d8cf7",
   "metadata": {},
   "outputs": [],
   "source": [
    "board = chess.Board('rnbqkbnr/pppppppp/8/8/8/8/PPPPPPPP/RNBQKBNR w KQkq -')\n",
    "board.turn"
   ]
  },
  {
   "cell_type": "code",
   "execution_count": null,
   "id": "3d838d38",
   "metadata": {},
   "outputs": [],
   "source": [
    "game"
   ]
  },
  {
   "cell_type": "code",
   "execution_count": null,
   "id": "6557bac6",
   "metadata": {},
   "outputs": [],
   "source": [
    "game['players']['white']['user']['name']"
   ]
  },
  {
   "cell_type": "code",
   "execution_count": null,
   "id": "27d36df6",
   "metadata": {},
   "outputs": [],
   "source": []
  }
 ],
 "metadata": {
  "kernelspec": {
   "display_name": "Python 3 (ipykernel)",
   "language": "python",
   "name": "python3"
  },
  "language_info": {
   "codemirror_mode": {
    "name": "ipython",
    "version": 3
   },
   "file_extension": ".py",
   "mimetype": "text/x-python",
   "name": "python",
   "nbconvert_exporter": "python",
   "pygments_lexer": "ipython3",
   "version": "3.10.0"
  }
 },
 "nbformat": 4,
 "nbformat_minor": 5
}
