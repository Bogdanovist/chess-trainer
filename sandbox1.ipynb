{
 "cells": [
  {
   "cell_type": "code",
   "execution_count": 1,
   "metadata": {},
   "outputs": [],
   "source": [
    "import lichess.api as lc \n",
    "from lichess.format import PGN, SINGLE_PGN, PYCHESS"
   ]
  },
  {
   "cell_type": "code",
   "execution_count": 2,
   "metadata": {},
   "outputs": [],
   "source": [
    "user = lc.user('bogdanovist')"
   ]
  },
  {
   "cell_type": "code",
   "execution_count": 3,
   "metadata": {},
   "outputs": [
    {
     "data": {
      "text/plain": [
       "{'blitz': {'games': 1566, 'rating': 1107, 'rd': 45, 'prog': -7},\n",
       " 'puzzle': {'games': 111, 'rating': 1633, 'rd': 80, 'prog': 0},\n",
       " 'bullet': {'games': 20, 'rating': 914, 'rd': 119, 'prog': 64, 'prov': True},\n",
       " 'correspondence': {'games': 1,\n",
       "  'rating': 1355,\n",
       "  'rd': 345,\n",
       "  'prog': 0,\n",
       "  'prov': True},\n",
       " 'classical': {'games': 0, 'rating': 1500, 'rd': 500, 'prog': 0, 'prov': True},\n",
       " 'rapid': {'games': 45, 'rating': 1402, 'rd': 94, 'prog': 45}}"
      ]
     },
     "execution_count": 3,
     "metadata": {},
     "output_type": "execute_result"
    }
   ],
   "source": [
    "user['perfs']"
   ]
  },
  {
   "cell_type": "code",
   "execution_count": 4,
   "metadata": {},
   "outputs": [
    {
     "data": {
      "text/plain": [
       "dict_keys(['id', 'username', 'perfs', 'createdAt', 'seenAt', 'playTime', 'url', 'count'])"
      ]
     },
     "execution_count": 4,
     "metadata": {},
     "output_type": "execute_result"
    }
   ],
   "source": [
    "user.keys()"
   ]
  },
  {
   "cell_type": "code",
   "execution_count": 77,
   "metadata": {},
   "outputs": [],
   "source": [
    "games = lc.user_games('bogdanovist', max=200)\n",
    "games = [game for game in games]"
   ]
  },
  {
   "cell_type": "code",
   "execution_count": 86,
   "metadata": {},
   "outputs": [],
   "source": [
    "white_games = {}\n",
    "black_games = {}\n",
    "my_name = 'bogdanovist'\n",
    "for game in games:\n",
    "    my_colour = 'white' if game['players']['white']['user']['name'] == my_name else 'black'\n",
    "    if my_colour == 'white':\n",
    "        move_counter = 0\n",
    "        moves = game['moves'].split(' ')\n",
    "        line = ''\n",
    "        while len(moves) > 1:\n",
    "            white_move = moves.pop(0)\n",
    "            black_move = moves.pop(0)\n",
    "            move_counter += 1\n",
    "            line += \"|\" + white_move + \"|\" + black_move\n",
    "            if move_counter in white_games:\n",
    "                if line in white_games[move_counter]:\n",
    "                    white_games[move_counter][line] += 1\n",
    "                else:\n",
    "                    white_games[move_counter][line] = 1\n",
    "            else:\n",
    "                white_games[move_counter] = {line:1}"
   ]
  },
  {
   "cell_type": "code",
   "execution_count": null,
   "metadata": {},
   "outputs": [],
   "source": [
    "correct_lines = {\n",
    "    [1]['|d4|d5':'']\n",
    "}"
   ]
  },
  {
   "cell_type": "code",
   "execution_count": 97,
   "metadata": {
    "scrolled": true
   },
   "outputs": [
    {
     "data": {
      "text/plain": [
       "[('|d4|d5', 61),\n",
       " ('|d4|e5', 9),\n",
       " ('|d4|c6', 6),\n",
       " ('|d4|e6', 5),\n",
       " ('|d4|Nf6', 5),\n",
       " ('|d4|d6', 4),\n",
       " ('|d4|f5', 3),\n",
       " ('|d4|Nc6', 2),\n",
       " ('|d4|c5', 2),\n",
       " ('|d4|b6', 1),\n",
       " ('|d4|g6', 1)]"
      ]
     },
     "execution_count": 97,
     "metadata": {},
     "output_type": "execute_result"
    }
   ],
   "source": [
    "sorted(white_games[1].items(), key=lambda x:x[1], reverse=True)"
   ]
  },
  {
   "cell_type": "code",
   "execution_count": 98,
   "metadata": {},
   "outputs": [
    {
     "data": {
      "text/plain": [
       "[('|d4|d5|Bf4|Nc6', 23),\n",
       " ('|d4|d5|Bf4|Nf6', 12),\n",
       " ('|d4|d5|Bf4|Bf5', 10),\n",
       " ('|d4|d5|Bf4|e6', 7),\n",
       " ('|d4|c6|Bf4|d5', 4),\n",
       " ('|d4|e5|dxe5|Bc5', 3),\n",
       " ('|d4|e5|dxe5|Nc6', 3),\n",
       " ('|d4|d5|Bf4|c5', 3),\n",
       " ('|d4|Nf6|Bf4|d6', 3),\n",
       " ('|d4|d5|Bf4|a6', 2),\n",
       " ('|d4|e6|Bf4|d5', 2),\n",
       " ('|d4|f5|Bf4|Nf6', 2),\n",
       " ('|d4|c6|e4|d5', 2),\n",
       " ('|d4|d6|Bf4|Nf6', 2),\n",
       " ('|d4|Nf6|Bf4|g6', 2),\n",
       " ('|d4|d6|Bf4|f6', 1),\n",
       " ('|d4|Nc6|Nf3|e6', 1),\n",
       " ('|d4|f5|Bf4|g6', 1),\n",
       " ('|d4|Nc6|Nf3|Nf6', 1),\n",
       " ('|d4|e5|dxe5|d6', 1),\n",
       " ('|d4|b6|e4|Bb7', 1),\n",
       " ('|d4|d5|Bf4|f6', 1),\n",
       " ('|d4|c5|d5|Nf6', 1),\n",
       " ('|d4|d5|Bf4|h6', 1),\n",
       " ('|d4|d5|Bf4|e5', 1),\n",
       " ('|d4|d6|Bf4|Nc6', 1),\n",
       " ('|d4|e6|Bf4|c5', 1),\n",
       " ('|d4|e5|dxe5|Qe7', 1),\n",
       " ('|d4|e5|dxe5|f6', 1),\n",
       " ('|d4|e6|Bf4|e5', 1),\n",
       " ('|d4|c5|Bf4|cxd4', 1),\n",
       " ('|d4|e6|e4|d5', 1),\n",
       " ('|d4|g6|Bf4|Bg7', 1),\n",
       " ('|d4|d5|Bf4|Na6', 1)]"
      ]
     },
     "execution_count": 98,
     "metadata": {},
     "output_type": "execute_result"
    }
   ],
   "source": [
    "sorted(white_games[2].items(), key=lambda x:x[1], reverse=True)"
   ]
  },
  {
   "cell_type": "code",
   "execution_count": 111,
   "metadata": {},
   "outputs": [],
   "source": [
    "white_games = {}\n",
    "black_games = {}\n",
    "my_name = 'bogdanovist'\n",
    "for game in games:\n",
    "    my_colour = 'white' if game['players']['white']['user']['name'] == my_name else 'black'\n",
    "    if my_colour == 'white':\n",
    "        move_counter = 0\n",
    "        moves = game['moves'].split(' ')\n",
    "        ptr = white_games\n",
    "        while len(moves) > 1:\n",
    "            move = moves.pop(0)\n",
    "            move_counter += 1\n",
    "            if move in ptr:\n",
    "                ptr[move]['cnt'] += 1\n",
    "            else:\n",
    "                ptr[move] = {'cnt':1,'moves':{}}\n",
    "            ptr = ptr[move]['moves']"
   ]
  },
  {
   "cell_type": "code",
   "execution_count": 118,
   "metadata": {},
   "outputs": [
    {
     "data": {
      "text/plain": [
       "dict_keys(['d5', 'd6', 'Nc6', 'e5', 'c6', 'f5', 'b6', 'e6', 'Nf6', 'c5', 'g6'])"
      ]
     },
     "execution_count": 118,
     "metadata": {},
     "output_type": "execute_result"
    }
   ],
   "source": [
    "white_games['d4']['moves'].keys()"
   ]
  },
  {
   "cell_type": "code",
   "execution_count": 119,
   "metadata": {},
   "outputs": [
    {
     "ename": "TypeError",
     "evalue": "'<' not supported between instances of 'dict' and 'dict'",
     "output_type": "error",
     "traceback": [
      "\u001b[0;31m---------------------------------------------------------------------------\u001b[0m",
      "\u001b[0;31mTypeError\u001b[0m                                 Traceback (most recent call last)",
      "Cell \u001b[0;32mIn[119], line 1\u001b[0m\n\u001b[0;32m----> 1\u001b[0m \u001b[38;5;28;43msorted\u001b[39;49m\u001b[43m(\u001b[49m\u001b[43mwhite_games\u001b[49m\u001b[43m[\u001b[49m\u001b[38;5;124;43m'\u001b[39;49m\u001b[38;5;124;43md4\u001b[39;49m\u001b[38;5;124;43m'\u001b[39;49m\u001b[43m]\u001b[49m\u001b[43m[\u001b[49m\u001b[38;5;124;43m'\u001b[39;49m\u001b[38;5;124;43mmoves\u001b[39;49m\u001b[38;5;124;43m'\u001b[39;49m\u001b[43m]\u001b[49m\u001b[38;5;241;43m.\u001b[39;49m\u001b[43mitems\u001b[49m\u001b[43m(\u001b[49m\u001b[43m)\u001b[49m\u001b[43m,\u001b[49m\u001b[43m \u001b[49m\u001b[43mkey\u001b[49m\u001b[38;5;241;43m=\u001b[39;49m\u001b[38;5;28;43;01mlambda\u001b[39;49;00m\u001b[43m \u001b[49m\u001b[43mx\u001b[49m\u001b[43m:\u001b[49m\u001b[43mx\u001b[49m\u001b[43m[\u001b[49m\u001b[38;5;241;43m1\u001b[39;49m\u001b[43m]\u001b[49m\u001b[43m,\u001b[49m\u001b[43m \u001b[49m\u001b[43mreverse\u001b[49m\u001b[38;5;241;43m=\u001b[39;49m\u001b[38;5;28;43;01mTrue\u001b[39;49;00m\u001b[43m)\u001b[49m\n",
      "\u001b[0;31mTypeError\u001b[0m: '<' not supported between instances of 'dict' and 'dict'"
     ]
    }
   ],
   "source": [
    "sorted(white_games['d4']['moves'].items(), key=lambda x:x[1], reverse=True)"
   ]
  },
  {
   "cell_type": "code",
   "execution_count": null,
   "metadata": {},
   "outputs": [],
   "source": []
  }
 ],
 "metadata": {
  "kernelspec": {
   "display_name": "Python 3 (ipykernel)",
   "language": "python",
   "name": "python3"
  },
  "language_info": {
   "codemirror_mode": {
    "name": "ipython",
    "version": 3
   },
   "file_extension": ".py",
   "mimetype": "text/x-python",
   "name": "python",
   "nbconvert_exporter": "python",
   "pygments_lexer": "ipython3",
   "version": "3.10.0"
  },
  "vscode": {
   "interpreter": {
    "hash": "75bba4b2518417e04349a58d5dfc842cdf44cd903e9931e2a05f7a619cf715d2"
   }
  }
 },
 "nbformat": 4,
 "nbformat_minor": 2
}
